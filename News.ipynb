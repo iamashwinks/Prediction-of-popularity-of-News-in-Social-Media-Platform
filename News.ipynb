{
 "cells": [
  {
   "cell_type": "markdown",
   "metadata": {},
   "source": [
    "# PREDICTION OF POPULARITY OF NEWS IN SOCIAL MEDIA PLATFORM"
   ]
  },
  {
   "cell_type": "markdown",
   "metadata": {},
   "source": [
    "## Introduction and Understanding the dataset"
   ]
  },
  {
   "cell_type": "markdown",
   "metadata": {},
   "source": [
    "Many advertisements and news get displayed in differrnt social media platforms such as Facebook, Google+, LinkedIn, \n",
    "Instagram, Youtube etc. \n",
    "\n",
    "The aim is to predict the popularity of the news posted in different Social Media Platforms."
   ]
  },
  {
   "cell_type": "markdown",
   "metadata": {},
   "source": [
    "### About the Dataset\n",
    "\n",
    "This is a large data set of news items and their respective social feedback on multiple platforms: Facebook, Google+ and LinkedIn.\n",
    "The collected data relates to a period of 8 months, between November 2015 and July 2016, accounting for about 100,000 news items on four different topics: economy, microsoft, obama and palestine.\n",
    "This data set is tailored for evaluative comparisons in predictive analytics tasks, although allowing for tasks in other research areas such as topic detection and tracking, sentiment analysis in short text, first story detection or news recommendation. \n",
    "We are predicting only news posted on Facebook as of now. \n",
    "\n",
    "\n",
    "#### VARIABLES OF SOCIAL FEEDBACK DATA #\n",
    "\n",
    "\n",
    "IDLink (numeric): Unique identifier of news items\n",
    "\n",
    "TS1 (numeric): Level of popularity in time slice 1 (0-20 minutes upon publication)\n",
    "\n",
    "TS2 (numeric): Level of popularity in time slice 2 (20-40 minutes upon publication)\n",
    "\n",
    "TS... (numeric): Level of popularity in time slice ...\n",
    "\n",
    "TS144 (numeric): Final level of popularity after 2 days upon publication"
   ]
  },
  {
   "cell_type": "markdown",
   "metadata": {},
   "source": [
    "## Importing the Necessary Libraries"
   ]
  },
  {
   "cell_type": "code",
   "execution_count": 2,
   "metadata": {},
   "outputs": [],
   "source": [
    "import numpy as np\n",
    "import pandas as pd\n",
    "import matplotlib.pyplot as plt\n",
    "from mpl_toolkits.mplot3d import Axes3D"
   ]
  },
  {
   "cell_type": "markdown",
   "metadata": {},
   "source": [
    "## Reading Dataset from the CSV File"
   ]
  },
  {
   "cell_type": "code",
   "execution_count": 7,
   "metadata": {
    "scrolled": true
   },
   "outputs": [
    {
     "data": {
      "text/html": [
       "<div>\n",
       "<style scoped>\n",
       "    .dataframe tbody tr th:only-of-type {\n",
       "        vertical-align: middle;\n",
       "    }\n",
       "\n",
       "    .dataframe tbody tr th {\n",
       "        vertical-align: top;\n",
       "    }\n",
       "\n",
       "    .dataframe thead th {\n",
       "        text-align: right;\n",
       "    }\n",
       "</style>\n",
       "<table border=\"1\" class=\"dataframe\">\n",
       "  <thead>\n",
       "    <tr style=\"text-align: right;\">\n",
       "      <th></th>\n",
       "      <th>IDLink</th>\n",
       "      <th>TS1</th>\n",
       "      <th>TS2</th>\n",
       "      <th>TS3</th>\n",
       "      <th>TS4</th>\n",
       "      <th>TS5</th>\n",
       "      <th>TS6</th>\n",
       "      <th>TS7</th>\n",
       "      <th>TS8</th>\n",
       "      <th>TS9</th>\n",
       "      <th>...</th>\n",
       "      <th>TS135</th>\n",
       "      <th>TS136</th>\n",
       "      <th>TS137</th>\n",
       "      <th>TS138</th>\n",
       "      <th>TS139</th>\n",
       "      <th>TS140</th>\n",
       "      <th>TS141</th>\n",
       "      <th>TS142</th>\n",
       "      <th>TS143</th>\n",
       "      <th>TS144</th>\n",
       "    </tr>\n",
       "  </thead>\n",
       "  <tbody>\n",
       "    <tr>\n",
       "      <th>0</th>\n",
       "      <td>1</td>\n",
       "      <td>-1</td>\n",
       "      <td>-1</td>\n",
       "      <td>-1</td>\n",
       "      <td>-1</td>\n",
       "      <td>-1</td>\n",
       "      <td>-1</td>\n",
       "      <td>-1</td>\n",
       "      <td>-1</td>\n",
       "      <td>7</td>\n",
       "      <td>...</td>\n",
       "      <td>13</td>\n",
       "      <td>13</td>\n",
       "      <td>13</td>\n",
       "      <td>13</td>\n",
       "      <td>13</td>\n",
       "      <td>13</td>\n",
       "      <td>13</td>\n",
       "      <td>13</td>\n",
       "      <td>13</td>\n",
       "      <td>13</td>\n",
       "    </tr>\n",
       "    <tr>\n",
       "      <th>1</th>\n",
       "      <td>2</td>\n",
       "      <td>-1</td>\n",
       "      <td>-1</td>\n",
       "      <td>-1</td>\n",
       "      <td>-1</td>\n",
       "      <td>-1</td>\n",
       "      <td>-1</td>\n",
       "      <td>-1</td>\n",
       "      <td>-1</td>\n",
       "      <td>3</td>\n",
       "      <td>...</td>\n",
       "      <td>42</td>\n",
       "      <td>42</td>\n",
       "      <td>42</td>\n",
       "      <td>42</td>\n",
       "      <td>42</td>\n",
       "      <td>42</td>\n",
       "      <td>42</td>\n",
       "      <td>42</td>\n",
       "      <td>42</td>\n",
       "      <td>42</td>\n",
       "    </tr>\n",
       "    <tr>\n",
       "      <th>2</th>\n",
       "      <td>3</td>\n",
       "      <td>-1</td>\n",
       "      <td>-1</td>\n",
       "      <td>-1</td>\n",
       "      <td>-1</td>\n",
       "      <td>-1</td>\n",
       "      <td>-1</td>\n",
       "      <td>-1</td>\n",
       "      <td>-1</td>\n",
       "      <td>-1</td>\n",
       "      <td>...</td>\n",
       "      <td>98</td>\n",
       "      <td>98</td>\n",
       "      <td>98</td>\n",
       "      <td>98</td>\n",
       "      <td>98</td>\n",
       "      <td>98</td>\n",
       "      <td>98</td>\n",
       "      <td>98</td>\n",
       "      <td>98</td>\n",
       "      <td>98</td>\n",
       "    </tr>\n",
       "    <tr>\n",
       "      <th>3</th>\n",
       "      <td>4</td>\n",
       "      <td>-1</td>\n",
       "      <td>-1</td>\n",
       "      <td>-1</td>\n",
       "      <td>-1</td>\n",
       "      <td>-1</td>\n",
       "      <td>-1</td>\n",
       "      <td>-1</td>\n",
       "      <td>-1</td>\n",
       "      <td>-1</td>\n",
       "      <td>...</td>\n",
       "      <td>7</td>\n",
       "      <td>7</td>\n",
       "      <td>7</td>\n",
       "      <td>7</td>\n",
       "      <td>7</td>\n",
       "      <td>7</td>\n",
       "      <td>7</td>\n",
       "      <td>7</td>\n",
       "      <td>7</td>\n",
       "      <td>7</td>\n",
       "    </tr>\n",
       "    <tr>\n",
       "      <th>4</th>\n",
       "      <td>5</td>\n",
       "      <td>-1</td>\n",
       "      <td>-1</td>\n",
       "      <td>-1</td>\n",
       "      <td>-1</td>\n",
       "      <td>-1</td>\n",
       "      <td>-1</td>\n",
       "      <td>-1</td>\n",
       "      <td>-1</td>\n",
       "      <td>-1</td>\n",
       "      <td>...</td>\n",
       "      <td>34</td>\n",
       "      <td>34</td>\n",
       "      <td>34</td>\n",
       "      <td>34</td>\n",
       "      <td>34</td>\n",
       "      <td>34</td>\n",
       "      <td>34</td>\n",
       "      <td>34</td>\n",
       "      <td>34</td>\n",
       "      <td>34</td>\n",
       "    </tr>\n",
       "  </tbody>\n",
       "</table>\n",
       "<p>5 rows × 145 columns</p>\n",
       "</div>"
      ],
      "text/plain": [
       "   IDLink  TS1  TS2  TS3  TS4  TS5  TS6  TS7  TS8  TS9  ...    TS135  TS136  \\\n",
       "0       1   -1   -1   -1   -1   -1   -1   -1   -1    7  ...       13     13   \n",
       "1       2   -1   -1   -1   -1   -1   -1   -1   -1    3  ...       42     42   \n",
       "2       3   -1   -1   -1   -1   -1   -1   -1   -1   -1  ...       98     98   \n",
       "3       4   -1   -1   -1   -1   -1   -1   -1   -1   -1  ...        7      7   \n",
       "4       5   -1   -1   -1   -1   -1   -1   -1   -1   -1  ...       34     34   \n",
       "\n",
       "   TS137  TS138  TS139  TS140  TS141  TS142  TS143  TS144  \n",
       "0     13     13     13     13     13     13     13     13  \n",
       "1     42     42     42     42     42     42     42     42  \n",
       "2     98     98     98     98     98     98     98     98  \n",
       "3      7      7      7      7      7      7      7      7  \n",
       "4     34     34     34     34     34     34     34     34  \n",
       "\n",
       "[5 rows x 145 columns]"
      ]
     },
     "execution_count": 7,
     "metadata": {},
     "output_type": "execute_result"
    }
   ],
   "source": [
    "data = pd.read_csv(\"Facebook_Economy.csv\")\n",
    "data.head()"
   ]
  },
  {
   "cell_type": "markdown",
   "metadata": {},
   "source": [
    "This is how the data looks. The dimensions of the dataset is:"
   ]
  },
  {
   "cell_type": "code",
   "execution_count": 8,
   "metadata": {},
   "outputs": [
    {
     "data": {
      "text/plain": [
       "(29928, 145)"
      ]
     },
     "execution_count": 8,
     "metadata": {},
     "output_type": "execute_result"
    }
   ],
   "source": [
    "data.shape"
   ]
  },
  {
   "cell_type": "markdown",
   "metadata": {},
   "source": [
    "## Checking if there are any missing values in the data"
   ]
  },
  {
   "cell_type": "code",
   "execution_count": 9,
   "metadata": {
    "scrolled": true
   },
   "outputs": [
    {
     "name": "stdout",
     "output_type": "stream",
     "text": [
      "IDLink    False\n",
      "TS1       False\n",
      "TS2       False\n",
      "TS3       False\n",
      "TS4       False\n",
      "TS5       False\n",
      "TS6       False\n",
      "TS7       False\n",
      "TS8       False\n",
      "TS9       False\n",
      "TS10      False\n",
      "TS11      False\n",
      "TS12      False\n",
      "TS13      False\n",
      "TS14      False\n",
      "TS15      False\n",
      "TS16      False\n",
      "TS17      False\n",
      "TS18      False\n",
      "TS19      False\n",
      "TS20      False\n",
      "TS21      False\n",
      "TS22      False\n",
      "TS23      False\n",
      "TS24      False\n",
      "TS25      False\n",
      "TS26      False\n",
      "TS27      False\n",
      "TS28      False\n",
      "TS29      False\n",
      "          ...  \n",
      "TS115     False\n",
      "TS116     False\n",
      "TS117     False\n",
      "TS118     False\n",
      "TS119     False\n",
      "TS120     False\n",
      "TS121     False\n",
      "TS122     False\n",
      "TS123     False\n",
      "TS124     False\n",
      "TS125     False\n",
      "TS126     False\n",
      "TS127     False\n",
      "TS128     False\n",
      "TS129     False\n",
      "TS130     False\n",
      "TS131     False\n",
      "TS132     False\n",
      "TS133     False\n",
      "TS134     False\n",
      "TS135     False\n",
      "TS136     False\n",
      "TS137     False\n",
      "TS138     False\n",
      "TS139     False\n",
      "TS140     False\n",
      "TS141     False\n",
      "TS142     False\n",
      "TS143     False\n",
      "TS144     False\n",
      "Length: 145, dtype: bool\n"
     ]
    }
   ],
   "source": [
    "print(data.isnull().any())"
   ]
  },
  {
   "cell_type": "markdown",
   "metadata": {},
   "source": [
    "And this is how the dataset is distributed which is as shown below:"
   ]
  },
  {
   "cell_type": "code",
   "execution_count": 5,
   "metadata": {},
   "outputs": [
    {
     "data": {
      "text/html": [
       "<div>\n",
       "<style scoped>\n",
       "    .dataframe tbody tr th:only-of-type {\n",
       "        vertical-align: middle;\n",
       "    }\n",
       "\n",
       "    .dataframe tbody tr th {\n",
       "        vertical-align: top;\n",
       "    }\n",
       "\n",
       "    .dataframe thead th {\n",
       "        text-align: right;\n",
       "    }\n",
       "</style>\n",
       "<table border=\"1\" class=\"dataframe\">\n",
       "  <thead>\n",
       "    <tr style=\"text-align: right;\">\n",
       "      <th></th>\n",
       "      <th>IDLink</th>\n",
       "      <th>TS1</th>\n",
       "      <th>TS2</th>\n",
       "      <th>TS3</th>\n",
       "      <th>TS4</th>\n",
       "      <th>TS5</th>\n",
       "      <th>TS6</th>\n",
       "      <th>TS7</th>\n",
       "      <th>TS8</th>\n",
       "      <th>TS9</th>\n",
       "      <th>...</th>\n",
       "      <th>TS135</th>\n",
       "      <th>TS136</th>\n",
       "      <th>TS137</th>\n",
       "      <th>TS138</th>\n",
       "      <th>TS139</th>\n",
       "      <th>TS140</th>\n",
       "      <th>TS141</th>\n",
       "      <th>TS142</th>\n",
       "      <th>TS143</th>\n",
       "      <th>TS144</th>\n",
       "    </tr>\n",
       "  </thead>\n",
       "  <tbody>\n",
       "    <tr>\n",
       "      <th>count</th>\n",
       "      <td>29928.000000</td>\n",
       "      <td>29928.000000</td>\n",
       "      <td>29928.000000</td>\n",
       "      <td>29928.000000</td>\n",
       "      <td>29928.000000</td>\n",
       "      <td>29928.000000</td>\n",
       "      <td>29928.000000</td>\n",
       "      <td>29928.000000</td>\n",
       "      <td>29928.000000</td>\n",
       "      <td>29928.000000</td>\n",
       "      <td>...</td>\n",
       "      <td>29928.000000</td>\n",
       "      <td>29928.000000</td>\n",
       "      <td>29928.000000</td>\n",
       "      <td>29928.000000</td>\n",
       "      <td>29928.000000</td>\n",
       "      <td>29928.000000</td>\n",
       "      <td>29928.000000</td>\n",
       "      <td>29928.000000</td>\n",
       "      <td>29928.000000</td>\n",
       "      <td>29928.000000</td>\n",
       "    </tr>\n",
       "    <tr>\n",
       "      <th>mean</th>\n",
       "      <td>27579.985532</td>\n",
       "      <td>-0.420710</td>\n",
       "      <td>0.019814</td>\n",
       "      <td>2.061080</td>\n",
       "      <td>2.586240</td>\n",
       "      <td>2.994988</td>\n",
       "      <td>3.285251</td>\n",
       "      <td>3.813085</td>\n",
       "      <td>4.345295</td>\n",
       "      <td>4.701751</td>\n",
       "      <td>...</td>\n",
       "      <td>44.256750</td>\n",
       "      <td>44.341687</td>\n",
       "      <td>44.512597</td>\n",
       "      <td>44.618818</td>\n",
       "      <td>44.717221</td>\n",
       "      <td>44.804431</td>\n",
       "      <td>44.888466</td>\n",
       "      <td>45.117482</td>\n",
       "      <td>45.233995</td>\n",
       "      <td>45.335739</td>\n",
       "    </tr>\n",
       "    <tr>\n",
       "      <th>std</th>\n",
       "      <td>16591.086104</td>\n",
       "      <td>13.396052</td>\n",
       "      <td>17.077407</td>\n",
       "      <td>282.216546</td>\n",
       "      <td>282.299425</td>\n",
       "      <td>282.506177</td>\n",
       "      <td>282.603609</td>\n",
       "      <td>282.842387</td>\n",
       "      <td>284.130729</td>\n",
       "      <td>284.520470</td>\n",
       "      <td>...</td>\n",
       "      <td>406.520808</td>\n",
       "      <td>406.684954</td>\n",
       "      <td>407.876993</td>\n",
       "      <td>408.702349</td>\n",
       "      <td>409.022775</td>\n",
       "      <td>409.363348</td>\n",
       "      <td>409.733246</td>\n",
       "      <td>411.139678</td>\n",
       "      <td>411.472159</td>\n",
       "      <td>411.823251</td>\n",
       "    </tr>\n",
       "    <tr>\n",
       "      <th>min</th>\n",
       "      <td>1.000000</td>\n",
       "      <td>-1.000000</td>\n",
       "      <td>-1.000000</td>\n",
       "      <td>-1.000000</td>\n",
       "      <td>-1.000000</td>\n",
       "      <td>-1.000000</td>\n",
       "      <td>-1.000000</td>\n",
       "      <td>-1.000000</td>\n",
       "      <td>-1.000000</td>\n",
       "      <td>-1.000000</td>\n",
       "      <td>...</td>\n",
       "      <td>-1.000000</td>\n",
       "      <td>-1.000000</td>\n",
       "      <td>-1.000000</td>\n",
       "      <td>-1.000000</td>\n",
       "      <td>-1.000000</td>\n",
       "      <td>-1.000000</td>\n",
       "      <td>-1.000000</td>\n",
       "      <td>-1.000000</td>\n",
       "      <td>-1.000000</td>\n",
       "      <td>-1.000000</td>\n",
       "    </tr>\n",
       "    <tr>\n",
       "      <th>25%</th>\n",
       "      <td>13370.250000</td>\n",
       "      <td>-1.000000</td>\n",
       "      <td>-1.000000</td>\n",
       "      <td>-1.000000</td>\n",
       "      <td>-1.000000</td>\n",
       "      <td>-1.000000</td>\n",
       "      <td>-1.000000</td>\n",
       "      <td>-1.000000</td>\n",
       "      <td>-1.000000</td>\n",
       "      <td>-1.000000</td>\n",
       "      <td>...</td>\n",
       "      <td>0.000000</td>\n",
       "      <td>0.000000</td>\n",
       "      <td>0.000000</td>\n",
       "      <td>0.000000</td>\n",
       "      <td>0.000000</td>\n",
       "      <td>0.000000</td>\n",
       "      <td>0.000000</td>\n",
       "      <td>0.000000</td>\n",
       "      <td>0.000000</td>\n",
       "      <td>0.000000</td>\n",
       "    </tr>\n",
       "    <tr>\n",
       "      <th>50%</th>\n",
       "      <td>26011.000000</td>\n",
       "      <td>-1.000000</td>\n",
       "      <td>-1.000000</td>\n",
       "      <td>-1.000000</td>\n",
       "      <td>-1.000000</td>\n",
       "      <td>-1.000000</td>\n",
       "      <td>-1.000000</td>\n",
       "      <td>-1.000000</td>\n",
       "      <td>-1.000000</td>\n",
       "      <td>-1.000000</td>\n",
       "      <td>...</td>\n",
       "      <td>3.000000</td>\n",
       "      <td>3.000000</td>\n",
       "      <td>3.000000</td>\n",
       "      <td>3.000000</td>\n",
       "      <td>3.000000</td>\n",
       "      <td>3.000000</td>\n",
       "      <td>3.000000</td>\n",
       "      <td>3.000000</td>\n",
       "      <td>3.000000</td>\n",
       "      <td>3.000000</td>\n",
       "    </tr>\n",
       "    <tr>\n",
       "      <th>75%</th>\n",
       "      <td>42584.250000</td>\n",
       "      <td>-1.000000</td>\n",
       "      <td>-1.000000</td>\n",
       "      <td>-1.000000</td>\n",
       "      <td>0.000000</td>\n",
       "      <td>0.000000</td>\n",
       "      <td>0.000000</td>\n",
       "      <td>0.000000</td>\n",
       "      <td>0.000000</td>\n",
       "      <td>0.000000</td>\n",
       "      <td>...</td>\n",
       "      <td>16.000000</td>\n",
       "      <td>16.000000</td>\n",
       "      <td>16.000000</td>\n",
       "      <td>17.000000</td>\n",
       "      <td>17.000000</td>\n",
       "      <td>17.000000</td>\n",
       "      <td>17.000000</td>\n",
       "      <td>17.000000</td>\n",
       "      <td>17.000000</td>\n",
       "      <td>17.000000</td>\n",
       "    </tr>\n",
       "    <tr>\n",
       "      <th>max</th>\n",
       "      <td>58447.000000</td>\n",
       "      <td>1885.000000</td>\n",
       "      <td>1885.000000</td>\n",
       "      <td>48711.000000</td>\n",
       "      <td>48711.000000</td>\n",
       "      <td>48711.000000</td>\n",
       "      <td>48711.000000</td>\n",
       "      <td>48711.000000</td>\n",
       "      <td>48711.000000</td>\n",
       "      <td>48711.000000</td>\n",
       "      <td>...</td>\n",
       "      <td>49211.000000</td>\n",
       "      <td>49211.000000</td>\n",
       "      <td>49211.000000</td>\n",
       "      <td>49211.000000</td>\n",
       "      <td>49211.000000</td>\n",
       "      <td>49211.000000</td>\n",
       "      <td>49211.000000</td>\n",
       "      <td>49211.000000</td>\n",
       "      <td>49211.000000</td>\n",
       "      <td>49211.000000</td>\n",
       "    </tr>\n",
       "  </tbody>\n",
       "</table>\n",
       "<p>8 rows × 145 columns</p>\n",
       "</div>"
      ],
      "text/plain": [
       "             IDLink           TS1           TS2           TS3           TS4  \\\n",
       "count  29928.000000  29928.000000  29928.000000  29928.000000  29928.000000   \n",
       "mean   27579.985532     -0.420710      0.019814      2.061080      2.586240   \n",
       "std    16591.086104     13.396052     17.077407    282.216546    282.299425   \n",
       "min        1.000000     -1.000000     -1.000000     -1.000000     -1.000000   \n",
       "25%    13370.250000     -1.000000     -1.000000     -1.000000     -1.000000   \n",
       "50%    26011.000000     -1.000000     -1.000000     -1.000000     -1.000000   \n",
       "75%    42584.250000     -1.000000     -1.000000     -1.000000      0.000000   \n",
       "max    58447.000000   1885.000000   1885.000000  48711.000000  48711.000000   \n",
       "\n",
       "                TS5           TS6           TS7           TS8           TS9  \\\n",
       "count  29928.000000  29928.000000  29928.000000  29928.000000  29928.000000   \n",
       "mean       2.994988      3.285251      3.813085      4.345295      4.701751   \n",
       "std      282.506177    282.603609    282.842387    284.130729    284.520470   \n",
       "min       -1.000000     -1.000000     -1.000000     -1.000000     -1.000000   \n",
       "25%       -1.000000     -1.000000     -1.000000     -1.000000     -1.000000   \n",
       "50%       -1.000000     -1.000000     -1.000000     -1.000000     -1.000000   \n",
       "75%        0.000000      0.000000      0.000000      0.000000      0.000000   \n",
       "max    48711.000000  48711.000000  48711.000000  48711.000000  48711.000000   \n",
       "\n",
       "           ...              TS135         TS136         TS137         TS138  \\\n",
       "count      ...       29928.000000  29928.000000  29928.000000  29928.000000   \n",
       "mean       ...          44.256750     44.341687     44.512597     44.618818   \n",
       "std        ...         406.520808    406.684954    407.876993    408.702349   \n",
       "min        ...          -1.000000     -1.000000     -1.000000     -1.000000   \n",
       "25%        ...           0.000000      0.000000      0.000000      0.000000   \n",
       "50%        ...           3.000000      3.000000      3.000000      3.000000   \n",
       "75%        ...          16.000000     16.000000     16.000000     17.000000   \n",
       "max        ...       49211.000000  49211.000000  49211.000000  49211.000000   \n",
       "\n",
       "              TS139         TS140         TS141         TS142         TS143  \\\n",
       "count  29928.000000  29928.000000  29928.000000  29928.000000  29928.000000   \n",
       "mean      44.717221     44.804431     44.888466     45.117482     45.233995   \n",
       "std      409.022775    409.363348    409.733246    411.139678    411.472159   \n",
       "min       -1.000000     -1.000000     -1.000000     -1.000000     -1.000000   \n",
       "25%        0.000000      0.000000      0.000000      0.000000      0.000000   \n",
       "50%        3.000000      3.000000      3.000000      3.000000      3.000000   \n",
       "75%       17.000000     17.000000     17.000000     17.000000     17.000000   \n",
       "max    49211.000000  49211.000000  49211.000000  49211.000000  49211.000000   \n",
       "\n",
       "              TS144  \n",
       "count  29928.000000  \n",
       "mean      45.335739  \n",
       "std      411.823251  \n",
       "min       -1.000000  \n",
       "25%        0.000000  \n",
       "50%        3.000000  \n",
       "75%       17.000000  \n",
       "max    49211.000000  \n",
       "\n",
       "[8 rows x 145 columns]"
      ]
     },
     "execution_count": 5,
     "metadata": {},
     "output_type": "execute_result"
    }
   ],
   "source": [
    "data.describe()"
   ]
  },
  {
   "cell_type": "markdown",
   "metadata": {},
   "source": [
    "## Training the model"
   ]
  },
  {
   "cell_type": "code",
   "execution_count": 10,
   "metadata": {},
   "outputs": [],
   "source": [
    "import tensorflow as tf\n",
    "from tensorflow.python import keras\n",
    "from sklearn.model_selection import train_test_split"
   ]
  },
  {
   "cell_type": "markdown",
   "metadata": {},
   "source": [
    "## Normalizing the data"
   ]
  },
  {
   "cell_type": "code",
   "execution_count": 11,
   "metadata": {},
   "outputs": [],
   "source": [
    "final_data = data\n",
    "final_data = (final_data - final_data.min()) / (final_data.max() - final_data.min())\n",
    "\n",
    "# Picking all columns other than the last one as X\n",
    "Y = np.array(final_data['IDLink'])\n",
    "X = np.array(final_data.drop(['IDLink'],axis=1))\n"
   ]
  },
  {
   "cell_type": "markdown",
   "metadata": {},
   "source": [
    "Split the data into respective test and train.\n"
   ]
  },
  {
   "cell_type": "code",
   "execution_count": 12,
   "metadata": {},
   "outputs": [],
   "source": [
    "xtrain, xtest, ytrain, ytest = train_test_split(X,Y, test_size=0.2)"
   ]
  },
  {
   "cell_type": "markdown",
   "metadata": {},
   "source": [
    "Defining the network."
   ]
  },
  {
   "cell_type": "code",
   "execution_count": 13,
   "metadata": {},
   "outputs": [],
   "source": [
    "model = keras.models.Sequential([\n",
    "    keras.layers.Dense(37,input_shape=(xtrain[0].shape), activation=tf.nn.tanh,  kernel_regularizer=keras.regularizers.l2(0.01)),\n",
    "    keras.layers.Dense(1)\n",
    "])"
   ]
  },
  {
   "cell_type": "code",
   "execution_count": 24,
   "metadata": {},
   "outputs": [],
   "source": [
    "model.compile(loss='mse',optimizer=keras.optimizers.Adam(0.001),metrics=['mae'])"
   ]
  },
  {
   "cell_type": "markdown",
   "metadata": {},
   "source": [
    "Training the model."
   ]
  },
  {
   "cell_type": "code",
   "execution_count": 32,
   "metadata": {},
   "outputs": [
    {
     "name": "stdout",
     "output_type": "stream",
     "text": [
      "Epoch 1/10\n",
      " - 1s - loss: 0.0807 - mean_absolute_error: 0.2460\n",
      "Epoch 2/10\n",
      " - 1s - loss: 0.0807 - mean_absolute_error: 0.2459\n",
      "Epoch 3/10\n",
      " - 1s - loss: 0.0807 - mean_absolute_error: 0.2460\n",
      "Epoch 4/10\n",
      " - 1s - loss: 0.0807 - mean_absolute_error: 0.2459\n",
      "Epoch 5/10\n",
      " - 1s - loss: 0.0807 - mean_absolute_error: 0.2460\n",
      "Epoch 6/10\n",
      " - 1s - loss: 0.0807 - mean_absolute_error: 0.2460\n",
      "Epoch 7/10\n",
      " - 1s - loss: 0.0807 - mean_absolute_error: 0.2460\n",
      "Epoch 8/10\n",
      " - 1s - loss: 0.0807 - mean_absolute_error: 0.2460\n",
      "Epoch 9/10\n",
      " - 1s - loss: 0.0807 - mean_absolute_error: 0.2460\n",
      "Epoch 10/10\n",
      " - 1s - loss: 0.0807 - mean_absolute_error: 0.2460\n"
     ]
    }
   ],
   "source": [
    "history=model.fit(xtrain,ytrain,epochs=10,verbose=2)"
   ]
  },
  {
   "cell_type": "markdown",
   "metadata": {},
   "source": [
    "Plotting the loss curve."
   ]
  },
  {
   "cell_type": "code",
   "execution_count": 39,
   "metadata": {},
   "outputs": [
    {
     "data": {
      "text/plain": [
       "[<matplotlib.lines.Line2D at 0x2a6bebfcac8>]"
      ]
     },
     "execution_count": 39,
     "metadata": {},
     "output_type": "execute_result"
    },
    {
     "data": {
      "image/png": "[encoded data removed]",
      "text/plain": [
       "<Figure size 432x288 with 1 Axes>"
      ]
     },
     "metadata": {
      "needs_background": "light"
     },
     "output_type": "display_data"
    }
   ],
   "source": [
    "plt.plot(history.epoch,history.history['loss'],'g')\n",
    "plt.plot(history.epoch,history.history['mean_absolute_error'],'r')"
   ]
  },
  {
   "cell_type": "markdown",
   "metadata": {},
   "source": [
    "## Model Efficency\n",
    "\n",
    "|   MSE    |    MAE   | \n",
    "|----------|----------|\n",
    "|  0.0038  |  0.0143  |\n"
   ]
  },
  {
   "cell_type": "markdown",
   "metadata": {},
   "source": [
    "## Testing the model"
   ]
  },
  {
   "cell_type": "code",
   "execution_count": 34,
   "metadata": {
    "scrolled": true
   },
   "outputs": [
    {
     "name": "stdout",
     "output_type": "stream",
     "text": [
      "5986/5986 [==============================] - 0s 22us/step\n"
     ]
    },
    {
     "data": {
      "text/plain": [
       "[0.08025138764827323, 0.24504603581945514]"
      ]
     },
     "execution_count": 34,
     "metadata": {},
     "output_type": "execute_result"
    }
   ],
   "source": [
    "model.evaluate(xtest,ytest)"
   ]
  },
  {
   "cell_type": "code",
   "execution_count": 35,
   "metadata": {},
   "outputs": [],
   "source": [
    "z = model.predict(xtrain[:5])"
   ]
  },
  {
   "cell_type": "code",
   "execution_count": 36,
   "metadata": {},
   "outputs": [],
   "source": [
    "yt = ytrain[:5].reshape(5,1)"
   ]
  },
  {
   "cell_type": "code",
   "execution_count": 37,
   "metadata": {},
   "outputs": [],
   "source": [
    "m = np.subtract(z,yt)"
   ]
  },
  {
   "cell_type": "markdown",
   "metadata": {},
   "source": [
    "This is the mean_absolute_error for test data of five rows"
   ]
  },
  {
   "cell_type": "code",
   "execution_count": 40,
   "metadata": {},
   "outputs": [
    {
     "data": {
      "text/plain": [
       "0.14589771933368442"
      ]
     },
     "execution_count": 40,
     "metadata": {},
     "output_type": "execute_result"
    }
   ],
   "source": [
    "m.mean()"
   ]
  },
  {
   "cell_type": "code",
   "execution_count": null,
   "metadata": {},
   "outputs": [],
   "source": []
  },
  {
   "cell_type": "code",
   "execution_count": null,
   "metadata": {},
   "outputs": [],
   "source": []
  }
 ],
 "metadata": {
  "kernelspec": {
   "display_name": "Python 3",
   "language": "python",
   "name": "python3"
  },
  "language_info": {
   "codemirror_mode": {
    "name": "ipython",
    "version": 3
   },
   "file_extension": ".py",
   "mimetype": "text/x-python",
   "name": "python",
   "nbconvert_exporter": "python",
   "pygments_lexer": "ipython3",
   "version": "3.6.6"
  }
 },
 "nbformat": 4,
 "nbformat_minor": 2
}
